{
 "cells": [
  {
   "cell_type": "code",
   "execution_count": 697,
   "id": "29db9819",
   "metadata": {},
   "outputs": [
    {
     "name": "stdout",
     "output_type": "stream",
     "text": [
      "                   Bearer Id               Start  Start ms  \\\n",
      "0       13114483460844900352 2019-04-04 12:01:18     770.0   \n",
      "1       13114483482878900224 2019-04-09 13:04:04     235.0   \n",
      "2       13114483484080500736 2019-04-09 17:42:11       1.0   \n",
      "3       13114483485442799616 2019-04-10 00:31:25     486.0   \n",
      "4       13114483499480700928 2019-04-12 20:10:23     565.0   \n",
      "...                      ...                 ...       ...   \n",
      "149996   7277825670196679680 2019-04-29 07:28:42     451.0   \n",
      "149997   7349883264234609664 2019-04-29 07:28:42     483.0   \n",
      "149998  13114483573367300096 2019-04-29 07:28:43     283.0   \n",
      "149999  13114483573367300096 2019-04-29 07:28:43     696.0   \n",
      "150000                                       NaT       NaN   \n",
      "\n",
      "                       End  End ms  Dur. (ms)          IMSI  MSISDN/Number  \\\n",
      "0      2019-04-25 14:35:31   662.0  1823652.0  2.082014e+14   3.366496e+10   \n",
      "1      2019-04-25 08:15:48   606.0  1365104.0  2.082019e+14   3.368185e+10   \n",
      "2      2019-04-25 11:58:13   652.0  1361762.0  2.082003e+14   3.376063e+10   \n",
      "3      2019-04-25 07:36:35   171.0  1321509.0  2.082014e+14   3.375034e+10   \n",
      "4      2019-04-25 10:40:32   954.0  1089009.0  2.082014e+14   3.369980e+10   \n",
      "...                    ...     ...        ...           ...            ...   \n",
      "149996 2019-04-30 06:02:33   214.0    81230.0  2.082022e+14   3.365069e+10   \n",
      "149997 2019-04-30 10:41:33   187.0    97970.0  2.082019e+14   3.366345e+10   \n",
      "149998 2019-04-30 10:46:12   810.0    98249.0  2.082017e+14   3.362189e+10   \n",
      "149999 2019-04-30 10:40:34   327.0    97910.0  2.082021e+14   3.361962e+10   \n",
      "150000                 NaT     NaN        NaN           NaN            NaN   \n",
      "\n",
      "                IMEI Last Location Name  ...  Youtube DL (Bytes)  \\\n",
      "0       3.552121e+13   9164566995485190  ...        1.585461e+07   \n",
      "1       3.579401e+13            L77566A  ...        2.024740e+07   \n",
      "2       3.528151e+13            D42335A  ...        1.972566e+07   \n",
      "3       3.535661e+13            T21824A  ...        2.138812e+07   \n",
      "4       3.540701e+13            D88865A  ...        1.525938e+07   \n",
      "...              ...                ...  ...                 ...   \n",
      "149996  3.548311e+13            D20434A  ...        1.619167e+07   \n",
      "149997  3.566051e+13            D10223C  ...        1.387723e+07   \n",
      "149998  3.572121e+13            T51102A  ...        2.266051e+07   \n",
      "149999  8.618620e+13            L88342B  ...        8.817106e+06   \n",
      "150000           NaN                NaN  ...        1.163407e+07   \n",
      "\n",
      "        Youtube UL (Bytes)  Netflix DL (Bytes)  Netflix UL (Bytes)  \\\n",
      "0             2.501332e+06        8.198936e+06        9.656251e+06   \n",
      "1             1.911173e+07        1.833841e+07        1.722713e+07   \n",
      "2             1.469958e+07        1.758779e+07        6.163408e+06   \n",
      "3             1.514664e+07        1.399465e+07        1.097942e+06   \n",
      "4             1.896287e+07        1.712458e+07        4.152180e+05   \n",
      "...                    ...                 ...                 ...   \n",
      "149996        1.176343e+07        1.788370e+07        1.967816e+07   \n",
      "149997        8.288284e+06        1.935015e+07        2.129315e+07   \n",
      "149998        1.855903e+06        9.963942e+06        5.065760e+06   \n",
      "149999        8.305402e+06        3.322253e+06        1.317259e+07   \n",
      "150000        1.100941e+07        1.162685e+07        1.100175e+07   \n",
      "\n",
      "        Gaming DL (Bytes)  Gaming UL (Bytes)  Other DL (Bytes)  \\\n",
      "0            2.780823e+08       1.434415e+07      1.717444e+08   \n",
      "1            6.087501e+08       1.170709e+06      5.269042e+08   \n",
      "2            2.295846e+08       3.956300e+05      4.106926e+08   \n",
      "3            7.995382e+08       1.084972e+07      7.490399e+08   \n",
      "4            5.277072e+08       3.529801e+06      5.507095e+08   \n",
      "...                   ...                ...               ...   \n",
      "149996       5.266097e+08       9.197207e+06      3.264510e+06   \n",
      "149997       6.268931e+08       4.735033e+06      7.121804e+08   \n",
      "149998       5.535395e+08       1.339432e+07      1.211009e+08   \n",
      "149999       3.525370e+08       2.529475e+06      8.147131e+08   \n",
      "150000       4.220447e+08       8.288398e+06      4.211005e+08   \n",
      "\n",
      "        Other UL (Bytes)  Total UL (Bytes)  Total DL (Bytes)  \n",
      "0           8.814393e+06        36749741.0       308879636.0  \n",
      "1           1.505514e+07        53800391.0       653384965.0  \n",
      "2           4.215763e+06        27883638.0       279807335.0  \n",
      "3           1.279728e+07        43324218.0       846028530.0  \n",
      "4           1.391032e+07        38542814.0       569138589.0  \n",
      "...                  ...               ...               ...  \n",
      "149996      1.348742e+07        57628851.0       574175259.0  \n",
      "149997      2.457758e+06        39135081.0       666648844.0  \n",
      "149998      1.131473e+07        34912224.0       592786405.0  \n",
      "149999      1.406930e+06        29626096.0       371895920.0  \n",
      "150000      8.264799e+06               NaN               NaN  \n",
      "\n",
      "[150001 rows x 55 columns]\n"
     ]
    },
    {
     "ename": "ImportError",
     "evalue": "cannot import name 'kmeans' from 'sklearn.cluster' (C:\\ProgramData\\Anaconda3\\lib\\site-packages\\sklearn\\cluster\\__init__.py)",
     "output_type": "error",
     "traceback": [
      "\u001b[1;31m---------------------------------------------------------------------------\u001b[0m",
      "\u001b[1;31mImportError\u001b[0m                               Traceback (most recent call last)",
      "\u001b[1;32m<ipython-input-697-310e9ebea5f9>\u001b[0m in \u001b[0;36m<module>\u001b[1;34m\u001b[0m\n\u001b[0;32m     16\u001b[0m \u001b[1;32mfrom\u001b[0m \u001b[0msklearn\u001b[0m\u001b[1;33m.\u001b[0m\u001b[0mlinear_model\u001b[0m \u001b[1;32mimport\u001b[0m \u001b[0mLinearRegression\u001b[0m\u001b[1;33m\u001b[0m\u001b[1;33m\u001b[0m\u001b[0m\n\u001b[0;32m     17\u001b[0m \u001b[1;32mfrom\u001b[0m \u001b[0msklearn\u001b[0m\u001b[1;33m.\u001b[0m\u001b[0mdecomposition\u001b[0m \u001b[1;32mimport\u001b[0m \u001b[0mPCA\u001b[0m\u001b[1;33m\u001b[0m\u001b[1;33m\u001b[0m\u001b[0m\n\u001b[1;32m---> 18\u001b[1;33m \u001b[1;32mfrom\u001b[0m \u001b[0msklearn\u001b[0m\u001b[1;33m.\u001b[0m\u001b[0mcluster\u001b[0m \u001b[1;32mimport\u001b[0m \u001b[0mkmeans\u001b[0m\u001b[1;33m\u001b[0m\u001b[1;33m\u001b[0m\u001b[0m\n\u001b[0m\u001b[0;32m     19\u001b[0m \u001b[1;32mfrom\u001b[0m \u001b[0msklearn\u001b[0m\u001b[1;33m.\u001b[0m\u001b[0mdatasets\u001b[0m \u001b[1;32mimport\u001b[0m \u001b[0mmake_blobs\u001b[0m\u001b[1;33m\u001b[0m\u001b[1;33m\u001b[0m\u001b[0m\n\u001b[0;32m     20\u001b[0m \u001b[1;32mfrom\u001b[0m \u001b[0msklearn\u001b[0m\u001b[1;33m.\u001b[0m\u001b[0mpreprocessing\u001b[0m \u001b[1;32mimport\u001b[0m \u001b[0mStandardScaler\u001b[0m\u001b[1;33m\u001b[0m\u001b[1;33m\u001b[0m\u001b[0m\n",
      "\u001b[1;31mImportError\u001b[0m: cannot import name 'kmeans' from 'sklearn.cluster' (C:\\ProgramData\\Anaconda3\\lib\\site-packages\\sklearn\\cluster\\__init__.py)"
     ]
    }
   ],
   "source": [
    "import pandas as pd #data manipulation transformation\n",
    "import numpy as np  #numerical data analysis\n",
    "df = pd.read_excel (r'C:\\Users\\Hp\\Downloads\\Week1_challenge_data_source.xlsx')\n",
    "print (df)\n",
    "import matplotlib.pyplot as plt\n",
    "import seaborn as sns    # data visualization\n",
    "%matplotlib inline \n",
    "%config InlineBackend.figure_format = 'retina' #higher resolution\n",
    "# importing the style package\n",
    "from matplotlib import style\n",
    "# using the style for the plot\n",
    "plt.style.use('ggplot')\n",
    "import sqlite3\n",
    "from sklearn import preprocessing\n",
    "from sklearn.cluster import KMeans\n",
    "from sklearn.linear_model import LinearRegression\n",
    "from sklearn.decomposition import PCA\n",
    "from sklearn.cluster import kmeans\n",
    "from sklearn.datasets import make_blobs\n",
    "from sklearn.preprocessing import StandardScaler\n",
    "from sklearn.metrics import silhouette_score\n",
    "from kneed import KneeLocator\n"
   ]
  },
  {
   "cell_type": "code",
   "execution_count": null,
   "id": "54511c90",
   "metadata": {},
   "outputs": [],
   "source": [
    "df.shape"
   ]
  },
  {
   "cell_type": "code",
   "execution_count": null,
   "id": "45f3271a",
   "metadata": {
    "scrolled": true
   },
   "outputs": [],
   "source": [
    "df.columns.tolist()"
   ]
  },
  {
   "cell_type": "code",
   "execution_count": null,
   "id": "dba0f831",
   "metadata": {},
   "outputs": [],
   "source": [
    "#relevant variables and associated data types"
   ]
  },
  {
   "cell_type": "markdown",
   "id": "f5047bc2",
   "metadata": {},
   "source": [
    "df.dtypes"
   ]
  },
  {
   "cell_type": "markdown",
   "id": "b5560a4a",
   "metadata": {},
   "source": [
    "# Handling Missing Value\n"
   ]
  },
  {
   "cell_type": "code",
   "execution_count": null,
   "id": "5f1c3a31",
   "metadata": {},
   "outputs": [],
   "source": [
    "# missing values in the dataset?\n",
    "def percent_missing(dm):\n",
    "\n",
    "    # Calculate total number of cells in dataframe\n",
    "    totalCells = np.product(dm.shape)\n",
    "\n",
    "    # Count number of missing values per column\n",
    "    missingCount = dm.isnull().sum()\n",
    "\n",
    "    # Calculate total number of missing values\n",
    "    totalMissing = missingCount.sum()\n",
    "\n",
    "    # Calculate percentage of missing values\n",
    "    print(\"The telecom dataset contains\", round(((totalMissing/totalCells) * 100), 2), \"%\", \"missing values.\")\n",
    "\n",
    "percent_missing(df)"
   ]
  },
  {
   "cell_type": "code",
   "execution_count": null,
   "id": "f728c862",
   "metadata": {},
   "outputs": [],
   "source": [
    "# Now which column(s) has missing values\n",
    "df.isna().sum()\n"
   ]
  },
  {
   "cell_type": "code",
   "execution_count": null,
   "id": "bd76d6e7",
   "metadata": {},
   "outputs": [],
   "source": [
    "# drop columns with more than 30% missing values\n",
    "perc = 30.0\n",
    "min_count =  int(((100-perc)/100)*df.shape[0] + 1)\n",
    "mod_df = df.dropna( axis=1, thresh=min_count)\n",
    "\n",
    "#print modified data\n",
    "\n",
    "mod_df.isna().sum().sort_values(ascending=False)/len(df)*100 \n",
    "#print(min_count)\n",
    "#print(data.shape, mod_df.shape)\n",
    "\n",
    "#print( type (mod_df))"
   ]
  },
  {
   "cell_type": "code",
   "execution_count": null,
   "id": "8c745378",
   "metadata": {},
   "outputs": [],
   "source": [
    "#the colums that have no 30% missing vakues \n",
    "df.isna().sum()\n"
   ]
  },
  {
   "cell_type": "code",
   "execution_count": null,
   "id": "9ed720ae",
   "metadata": {},
   "outputs": [],
   "source": [
    "# cleaning data frame\n",
    "mod_df.dropna(subset = [\"Bearer Id\", \"MSISDN/Number\"], inplace=True)\n",
    "cols=['Avg RTT DL (ms)','Avg RTT UL (ms)','Last Location Name','10 Kbps < UL TP < 50 Kbps (%)','Nb of sec with Vol UL < 1250B','50 Kbps < UL TP < 300 Kbps (%)','10 Kbps < UL TP < 50 Kbps (%)','UL TP < 10 Kbps (%)',\n",
    "      'UL TP > 300 Kbps (%)','Nb of sec with Vol DL < 6250B','DL TP > 1 Mbps (%)','250 Kbps < DL TP < 1 Mbps (%)','50 Kbps < DL TP < 250 Kbps (%)','DL TP < 50 Kbps (%)']\n",
    "for col in cols:\n",
    "  mod_df[col]=mod_df[col].fillna(method='ffill')\n",
    "\n",
    "mod_df.isna().sum().sort_values(ascending=False)/len(df)*100\n",
    "\n",
    "#data.isna().sum().sort_values(ascending=False)/len(data)*100\n",
    "#print (type(data))"
   ]
  },
  {
   "cell_type": "code",
   "execution_count": null,
   "id": "7ae36ee8",
   "metadata": {},
   "outputs": [],
   "source": []
  },
  {
   "cell_type": "code",
   "execution_count": null,
   "id": "74560532",
   "metadata": {},
   "outputs": [],
   "source": [
    "df"
   ]
  },
  {
   "cell_type": "code",
   "execution_count": null,
   "id": "b6f2e1a3",
   "metadata": {},
   "outputs": [],
   "source": [
    "df.shape\n"
   ]
  },
  {
   "cell_type": "code",
   "execution_count": null,
   "id": "843a94be",
   "metadata": {},
   "outputs": [],
   "source": [
    "#Transforming Data Scaling and Normalization"
   ]
  },
  {
   "cell_type": "code",
   "execution_count": null,
   "id": "d5efd49d",
   "metadata": {},
   "outputs": [],
   "source": [
    "from sklearn.preprocessing import MinMaxScaler\n",
    "\n",
    "minmax_scaler = MinMaxScaler()\n",
    "\n",
    "# generate 1000 data points randomly drawn from an exponential distribution\n",
    "original_data = pd.DataFrame(np.random.exponential(200, size=2000))\n",
    "\n",
    "original_data.sample(5)"
   ]
  },
  {
   "cell_type": "code",
   "execution_count": null,
   "id": "9b0c2b52",
   "metadata": {},
   "outputs": [],
   "source": [
    "original_data[0].min(), original_data[0].max()\n"
   ]
  },
  {
   "cell_type": "code",
   "execution_count": null,
   "id": "22db5915",
   "metadata": {},
   "outputs": [],
   "source": [
    "count, bins, ignored = plt.hist(original_data, 14)\n",
    "plt.show()"
   ]
  },
  {
   "cell_type": "code",
   "execution_count": null,
   "id": "8eb6e4b5",
   "metadata": {
    "scrolled": true
   },
   "outputs": [],
   "source": [
    "# mix-max scale the data between 0 and 1\n",
    "def scaler(df):\n",
    "    scaled_data = minmax_scaler.fit_transform(df)\n",
    "\n",
    "    # plot both together to compare\n",
    "    fig, ax = plt.subplots(1,2, figsize=(10, 6))\n",
    "    sns.histplot(original_data, ax=ax[0])\n",
    "    ax[0].set_title(\"Original Data\")\n",
    "    sns.histplot(scaled_data, ax=ax[1])\n",
    "    ax[1].set_title(\"Scaled data\")\n",
    "    \n",
    "scaler(original_data)"
   ]
  },
  {
   "cell_type": "code",
   "execution_count": null,
   "id": "96317647",
   "metadata": {},
   "outputs": [],
   "source": [
    "\n",
    "from sklearn.preprocessing import Normalizer\n",
    "\n",
    "def normalizer(df):\n",
    "    norm = Normalizer()\n",
    "    # normalize the exponential data with boxcox\n",
    "    normalized_data = norm.fit_transform(df)\n",
    "\n",
    "    # plot both together to compare\n",
    "    fig, ax=plt.subplots(1,2, figsize=(10, 6))\n",
    "    sns.histplot(df, ax=ax[0])\n",
    "    ax[0].set_title(\"Original Data\")\n",
    "    sns.histplot(normalized_data[0], ax=ax[1])\n",
    "    ax[1].set_title(\"Normalized data\")\n",
    "\n",
    "normalizer(original_data)"
   ]
  },
  {
   "cell_type": "code",
   "execution_count": null,
   "id": "f9873dca",
   "metadata": {},
   "outputs": [],
   "source": [
    "df.info()"
   ]
  },
  {
   "cell_type": "code",
   "execution_count": null,
   "id": "da2330d7",
   "metadata": {},
   "outputs": [],
   "source": [
    "#For the actual telecom dataset, you‘re expected to conduct a full User Overview analysis & the following sub-tasks are your guidance:\n",
    "#● Start by identifying the top 10 handsets used by the customers.\n",
    "#● Then, identify the top 3 handset manufacturers\n",
    "#● Next, identify the top 5 handsets per top 3 handset manufacturer\n",
    "#● Make a short interpretation and recommendation to marketing teams"
   ]
  },
  {
   "cell_type": "code",
   "execution_count": null,
   "id": "86fa8f6d",
   "metadata": {},
   "outputs": [],
   "source": [
    "#Start by identifying the top 10 handsets used by the customers.\n",
    "df[\"Handset Type\"].value_counts().head(10)"
   ]
  },
  {
   "cell_type": "code",
   "execution_count": null,
   "id": "7e1aa506",
   "metadata": {},
   "outputs": [],
   "source": [
    "#identify the top 3 handset manufacturers\n",
    "df[\"Handset Manufacturer\"].value_counts().head(3)"
   ]
  },
  {
   "cell_type": "code",
   "execution_count": null,
   "id": "02bdfd79",
   "metadata": {},
   "outputs": [],
   "source": [
    "apple_handsets = df[df[\"Handset Manufacturer\"] == \"Samsung\"]\n",
    "apple_handsets[\"Handset Type\"].value_counts().head(5)"
   ]
  },
  {
   "cell_type": "code",
   "execution_count": null,
   "id": "c9a25c07",
   "metadata": {},
   "outputs": [],
   "source": [
    "apple_handsets = df[df[\"Handset Manufacturer\"] == \"Huawei\"]\n",
    "apple_handsets[\"Handset Type\"].value_counts().head(5)"
   ]
  },
  {
   "cell_type": "code",
   "execution_count": null,
   "id": "72c561e3",
   "metadata": {},
   "outputs": [],
   "source": [
    "#● Make a short interpretation and recommendation to marketing tea\\\n",
    "# the marketing team has to make full attention on cleaning above handests"
   ]
  },
  {
   "cell_type": "code",
   "execution_count": null,
   "id": "b91fe3e9",
   "metadata": {},
   "outputs": [],
   "source": [
    "#Task 1.1 - Your employer wants to have an overview of the users’ behavior on those applications.\n",
    "#● Aggregate per user the following information in the column\n",
    "#○ number of xDR sessions\n",
    "#○ Session duration\n",
    "#○ the total download (DL) and upload (UL) data\n",
    "#○ the total data volume (in Bytes) during this session for each application"
   ]
  },
  {
   "cell_type": "code",
   "execution_count": null,
   "id": "7873efe7",
   "metadata": {},
   "outputs": [],
   "source": [
    "sessions = df[[\"MSISDN/Number\",\"Bearer Id\"]]\n",
    "session_count = sessions.groupby([\"MSISDN/Number\"]).count()\n",
    "session_count"
   ]
  },
  {
   "cell_type": "code",
   "execution_count": null,
   "id": "1411334b",
   "metadata": {},
   "outputs": [],
   "source": [
    "session_count.describe()"
   ]
  },
  {
   "cell_type": "code",
   "execution_count": null,
   "id": "f108acf0",
   "metadata": {},
   "outputs": [],
   "source": [
    "df_usage = df[[\"MSISDN/Number\",\"Dur. (ms).1\", \"Total DL (Bytes)\", \"Total UL (Bytes)\"]]\n",
    "df_usage.groupby([\"MSISDN/Number\"]).agg('sum')"
   ]
  },
  {
   "cell_type": "code",
   "execution_count": 707,
   "id": "8a10e251",
   "metadata": {},
   "outputs": [
    {
     "data": {
      "text/html": [
       "<div>\n",
       "<style scoped>\n",
       "    .dataframe tbody tr th:only-of-type {\n",
       "        vertical-align: middle;\n",
       "    }\n",
       "\n",
       "    .dataframe tbody tr th {\n",
       "        vertical-align: top;\n",
       "    }\n",
       "\n",
       "    .dataframe thead th {\n",
       "        text-align: right;\n",
       "    }\n",
       "</style>\n",
       "<table border=\"1\" class=\"dataframe\">\n",
       "  <thead>\n",
       "    <tr style=\"text-align: right;\">\n",
       "      <th></th>\n",
       "      <th>Total Google</th>\n",
       "      <th>Total Youtube</th>\n",
       "      <th>Total Netflix</th>\n",
       "      <th>Total Email</th>\n",
       "      <th>Total Gaming</th>\n",
       "      <th>Total Social Media</th>\n",
       "      <th>Total Other</th>\n",
       "    </tr>\n",
       "    <tr>\n",
       "      <th>MSISDN/Number</th>\n",
       "      <th></th>\n",
       "      <th></th>\n",
       "      <th></th>\n",
       "      <th></th>\n",
       "      <th></th>\n",
       "      <th></th>\n",
       "      <th></th>\n",
       "    </tr>\n",
       "  </thead>\n",
       "  <tbody>\n",
       "    <tr>\n",
       "      <th>3.360100e+10</th>\n",
       "      <td>4389005.0</td>\n",
       "      <td>21624548.0</td>\n",
       "      <td>27180981.0</td>\n",
       "      <td>1331362.0</td>\n",
       "      <td>8.124587e+08</td>\n",
       "      <td>2232135.0</td>\n",
       "      <td>386570872.0</td>\n",
       "    </tr>\n",
       "    <tr>\n",
       "      <th>3.360100e+10</th>\n",
       "      <td>5334863.0</td>\n",
       "      <td>12432223.0</td>\n",
       "      <td>11221763.0</td>\n",
       "      <td>3307781.0</td>\n",
       "      <td>1.197501e+08</td>\n",
       "      <td>2660565.0</td>\n",
       "      <td>281710071.0</td>\n",
       "    </tr>\n",
       "    <tr>\n",
       "      <th>3.360100e+10</th>\n",
       "      <td>3443126.0</td>\n",
       "      <td>21333570.0</td>\n",
       "      <td>19353900.0</td>\n",
       "      <td>3205380.0</td>\n",
       "      <td>5.388277e+08</td>\n",
       "      <td>3195623.0</td>\n",
       "      <td>501693672.0</td>\n",
       "    </tr>\n",
       "    <tr>\n",
       "      <th>3.360101e+10</th>\n",
       "      <td>9678493.0</td>\n",
       "      <td>6977321.0</td>\n",
       "      <td>1942092.0</td>\n",
       "      <td>2284670.0</td>\n",
       "      <td>3.911261e+08</td>\n",
       "      <td>280294.0</td>\n",
       "      <td>35279702.0</td>\n",
       "    </tr>\n",
       "    <tr>\n",
       "      <th>3.360101e+10</th>\n",
       "      <td>18499616.0</td>\n",
       "      <td>41533002.0</td>\n",
       "      <td>49201724.0</td>\n",
       "      <td>3305469.0</td>\n",
       "      <td>1.314798e+09</td>\n",
       "      <td>2912542.0</td>\n",
       "      <td>804804484.0</td>\n",
       "    </tr>\n",
       "    <tr>\n",
       "      <th>...</th>\n",
       "      <td>...</td>\n",
       "      <td>...</td>\n",
       "      <td>...</td>\n",
       "      <td>...</td>\n",
       "      <td>...</td>\n",
       "      <td>...</td>\n",
       "      <td>...</td>\n",
       "    </tr>\n",
       "    <tr>\n",
       "      <th>3.379000e+10</th>\n",
       "      <td>7531269.0</td>\n",
       "      <td>26647843.0</td>\n",
       "      <td>14902538.0</td>\n",
       "      <td>1006915.0</td>\n",
       "      <td>6.603614e+08</td>\n",
       "      <td>300183.0</td>\n",
       "      <td>295282817.0</td>\n",
       "    </tr>\n",
       "    <tr>\n",
       "      <th>3.379000e+10</th>\n",
       "      <td>5429705.0</td>\n",
       "      <td>19851572.0</td>\n",
       "      <td>8531060.0</td>\n",
       "      <td>2514097.0</td>\n",
       "      <td>4.370033e+08</td>\n",
       "      <td>498569.0</td>\n",
       "      <td>211115113.0</td>\n",
       "    </tr>\n",
       "    <tr>\n",
       "      <th>3.197021e+12</th>\n",
       "      <td>10438660.0</td>\n",
       "      <td>11959905.0</td>\n",
       "      <td>26592300.0</td>\n",
       "      <td>1520771.0</td>\n",
       "      <td>1.780487e+08</td>\n",
       "      <td>715224.0</td>\n",
       "      <td>470526473.0</td>\n",
       "    </tr>\n",
       "    <tr>\n",
       "      <th>3.370000e+14</th>\n",
       "      <td>9830617.0</td>\n",
       "      <td>36734940.0</td>\n",
       "      <td>30905042.0</td>\n",
       "      <td>3318582.0</td>\n",
       "      <td>5.101427e+08</td>\n",
       "      <td>521566.0</td>\n",
       "      <td>149188439.0</td>\n",
       "    </tr>\n",
       "    <tr>\n",
       "      <th>8.823971e+14</th>\n",
       "      <td>9218647.0</td>\n",
       "      <td>40940710.0</td>\n",
       "      <td>28846230.0</td>\n",
       "      <td>3330974.0</td>\n",
       "      <td>4.307026e+07</td>\n",
       "      <td>1546088.0</td>\n",
       "      <td>401360457.0</td>\n",
       "    </tr>\n",
       "  </tbody>\n",
       "</table>\n",
       "<p>106856 rows × 7 columns</p>\n",
       "</div>"
      ],
      "text/plain": [
       "               Total Google  Total Youtube  Total Netflix  Total Email  \\\n",
       "MSISDN/Number                                                            \n",
       "3.360100e+10      4389005.0     21624548.0     27180981.0    1331362.0   \n",
       "3.360100e+10      5334863.0     12432223.0     11221763.0    3307781.0   \n",
       "3.360100e+10      3443126.0     21333570.0     19353900.0    3205380.0   \n",
       "3.360101e+10      9678493.0      6977321.0      1942092.0    2284670.0   \n",
       "3.360101e+10     18499616.0     41533002.0     49201724.0    3305469.0   \n",
       "...                     ...            ...            ...          ...   \n",
       "3.379000e+10      7531269.0     26647843.0     14902538.0    1006915.0   \n",
       "3.379000e+10      5429705.0     19851572.0      8531060.0    2514097.0   \n",
       "3.197021e+12     10438660.0     11959905.0     26592300.0    1520771.0   \n",
       "3.370000e+14      9830617.0     36734940.0     30905042.0    3318582.0   \n",
       "8.823971e+14      9218647.0     40940710.0     28846230.0    3330974.0   \n",
       "\n",
       "               Total Gaming  Total Social Media  Total Other  \n",
       "MSISDN/Number                                                 \n",
       "3.360100e+10   8.124587e+08           2232135.0  386570872.0  \n",
       "3.360100e+10   1.197501e+08           2660565.0  281710071.0  \n",
       "3.360100e+10   5.388277e+08           3195623.0  501693672.0  \n",
       "3.360101e+10   3.911261e+08            280294.0   35279702.0  \n",
       "3.360101e+10   1.314798e+09           2912542.0  804804484.0  \n",
       "...                     ...                 ...          ...  \n",
       "3.379000e+10   6.603614e+08            300183.0  295282817.0  \n",
       "3.379000e+10   4.370033e+08            498569.0  211115113.0  \n",
       "3.197021e+12   1.780487e+08            715224.0  470526473.0  \n",
       "3.370000e+14   5.101427e+08            521566.0  149188439.0  \n",
       "8.823971e+14   4.307026e+07           1546088.0  401360457.0  \n",
       "\n",
       "[106856 rows x 7 columns]"
      ]
     },
     "execution_count": 707,
     "metadata": {},
     "output_type": "execute_result"
    }
   ],
   "source": [
    "df[\"Total Google\"] = df[\"Google DL (Bytes)\"] + df[\"Google UL (Bytes)\"]\n",
    "df[\"Total Youtube\"] = df[\"Youtube DL (Bytes)\"] + df[\"Youtube UL (Bytes)\"]\n",
    "df[\"Total Netflix\"] = df[\"Netflix DL (Bytes)\"] + df[\"Netflix UL (Bytes)\"]\n",
    "df[\"Total Email\"] = df[\"Email DL (Bytes)\"] + df[\"Email UL (Bytes)\"]\n",
    "df[\"Total Gaming\"] = df[\"Gaming DL (Bytes)\"] + df[\"Gaming UL (Bytes)\"]\n",
    "df[\"Total Social Media\"] = df[\"Social Media DL (Bytes)\"] + df[\"Social Media UL (Bytes)\"]\n",
    "df[\"Total Other\"] = df[\"Other DL (Bytes)\"] + df[\"Other UL (Bytes)\"]\n",
    "\n",
    "\n",
    "app_df = df[[\"Bearer Id\",\"MSISDN/Number\",\"Total Google\", \"Total Youtube\", \"Total Netflix\", \"Total Email\", \"Total Gaming\", \n",
    "                 \"Total Social Media\", \"Total Other\"]]\n",
    "app_df.groupby([\"MSISDN/Number\"]).agg('sum')"
   ]
  },
  {
   "cell_type": "code",
   "execution_count": null,
   "id": "672ff3d3",
   "metadata": {},
   "outputs": [],
   "source": [
    "#Task 1.2 - Conduct an exploratory data analysis on those data & communicate useful insights.\n",
    "#Ensure that you identify and treat all missing values and outliers in the dataset by replacing by \n",
    "#the mean of the corresponding column."
   ]
  },
  {
   "cell_type": "code",
   "execution_count": null,
   "id": "3ced24a9",
   "metadata": {},
   "outputs": [],
   "source": [
    "#checking for null values\n",
    "df[[\"Dur. (ms).1\",\"Total DL (Bytes)\",\"Total UL (Bytes)\", \"Total Social Media\", \"Total Google\", \"Total Email\", \"Total Youtube\",\n",
    "      \"Total Netflix\", \"Total Gaming\"]].isna().sum().head(60)"
   ]
  },
  {
   "cell_type": "code",
   "execution_count": null,
   "id": "5ee2475c",
   "metadata": {},
   "outputs": [],
   "source": [
    "#filling the null values with the mean of the column\n",
    "df[\"Total DL (Bytes)\"].fillna(df[\"Total DL (Bytes)\"].mean(), inplace = True)\n",
    "df[\"Total UL (Bytes)\"].fillna(df[\"Total UL (Bytes)\"].mean(), inplace = True)\n",
    "df[\"Dur. (ms).1\"].fillna(df[\"Dur. (ms).1\"].mean(), inplace = True)"
   ]
  },
  {
   "cell_type": "code",
   "execution_count": null,
   "id": "630f50a2",
   "metadata": {},
   "outputs": [],
   "source": [
    "df[[\"Dur. (ms).1\", \"Total DL (Bytes)\",\"Total UL (Bytes)\", \"Total Social Media\", \"Total Google\", \"Total Email\", \"Total Youtube\",\n",
    "      \"Total Netflix\", \"Total Gaming\"]].describe()"
   ]
  },
  {
   "cell_type": "code",
   "execution_count": null,
   "id": "68791321",
   "metadata": {},
   "outputs": [],
   "source": [
    "#checking for skewness\n",
    "df.skew()"
   ]
  },
  {
   "cell_type": "code",
   "execution_count": null,
   "id": "d382fc41",
   "metadata": {},
   "outputs": [],
   "source": [
    "#looking for the outliers\n",
    "df.boxplot(column=['Dur. (ms).1', \"Total DL (Bytes)\",\"Total UL (Bytes)\"])"
   ]
  },
  {
   "cell_type": "code",
   "execution_count": null,
   "id": "bd59ef4b",
   "metadata": {},
   "outputs": [],
   "source": [
    "#plotting variable distributions\n",
    "df[\"Dur. (ms).1\"].hist(bins = 50)\n",
    "plt.title(\"Duration Histogram\")"
   ]
  },
  {
   "cell_type": "code",
   "execution_count": null,
   "id": "5668d78d",
   "metadata": {},
   "outputs": [],
   "source": [
    "#ploting Histogram for Total Download \n",
    "\n",
    "df[\"Total DL (Bytes)\"].hist(bins = 50)\n",
    "plt.title(\"Total Download Histogram\")"
   ]
  },
  {
   "cell_type": "code",
   "execution_count": null,
   "id": "fa33b0b8",
   "metadata": {},
   "outputs": [],
   "source": [
    "#ploting Histogram Total Upload \n",
    "df[\"Total UL (Bytes)\"].hist(bins = 50)\n",
    "plt.title(\"Total Upload Histogram\")"
   ]
  },
  {
   "cell_type": "code",
   "execution_count": null,
   "id": "cb747f56",
   "metadata": {},
   "outputs": [],
   "source": [
    "#plotting Histogram for Total Social Media Data\n",
    "df[\"Total Social Media\"].hist(bins = 50)\n",
    "plt.title(\"Total Social Media Data Histogram\")"
   ]
  },
  {
   "cell_type": "code",
   "execution_count": null,
   "id": "619de7d4",
   "metadata": {},
   "outputs": [],
   "source": [
    "# plotting Histogram for Total Google Data\n",
    "df[\"Total Google\"].hist(bins = 50)\n",
    "plt.title(\"Total Google Data Histogram\")"
   ]
  },
  {
   "cell_type": "code",
   "execution_count": null,
   "id": "55f4343a",
   "metadata": {},
   "outputs": [],
   "source": [
    "#plotting Histogram  for Total Email Data\n",
    "df[\"Total Email\"].hist(bins = 50)\n",
    "plt.title(\"Total Email Data Histogram\")"
   ]
  },
  {
   "cell_type": "code",
   "execution_count": null,
   "id": "4ac60498",
   "metadata": {},
   "outputs": [],
   "source": [
    "#plotting Histogram for Total Youtube Data \n",
    "df[\"Total Youtube\"].hist(bins = 50)\n",
    "plt.title(\"Total Youtube Data Histogram\")\n"
   ]
  },
  {
   "cell_type": "code",
   "execution_count": null,
   "id": "4dea4190",
   "metadata": {},
   "outputs": [],
   "source": [
    "#plotting Histogram for Total Netflix\n",
    "df[\"Total Netflix\"].hist(bins = 50)\n",
    "plt.title(\"Total Netflix Data Histogram\")"
   ]
  },
  {
   "cell_type": "code",
   "execution_count": null,
   "id": "a0a291db",
   "metadata": {},
   "outputs": [],
   "source": [
    "#plotting Histogram for Total Gaming Data\n",
    "df[\"Total Gaming\"].hist(bins = 50)\n",
    "plt.title(\"Total Gaming Data Histogram\")"
   ]
  },
  {
   "cell_type": "code",
   "execution_count": null,
   "id": "36d92e09",
   "metadata": {},
   "outputs": [],
   "source": [
    "#plotting comparisons\n",
    "total_usage = app_df[[\"Total Google\", \"Total Youtube\", \"Total Netflix\", \"Total Email\", \"Total Gaming\", \"Total Social Media\", \"Total Other\"]]\n",
    "ind = np.arange(7)\n",
    "width =0.8\n",
    "\n",
    "plt.xticks(ind , (\"Google\", \"Youtube\", \"Netflix\", \"Email\", \"Gaming\", \"Social\", \"Other\"))\n",
    "plt.bar(ind, total_usage.sum(), width, label = \"Total Usage\")\n",
    "plt.title(\"App Data usage\")"
   ]
  },
  {
   "cell_type": "code",
   "execution_count": null,
   "id": "baec82bd",
   "metadata": {},
   "outputs": [],
   "source": [
    "df.plot.line()\n",
    "#eroor"
   ]
  },
  {
   "cell_type": "markdown",
   "id": "7a7831e7",
   "metadata": {},
   "source": [
    "#Variable transformations\n",
    "segment the users into top five decile classes based on the total duration for all sessions and compute the total data (DL+UL) per decile class"
   ]
  },
  {
   "cell_type": "code",
   "execution_count": null,
   "id": "3c62e5f9",
   "metadata": {},
   "outputs": [],
   "source": [
    "#group users into top 5 deciles \n",
    "users = df\n",
    ".groupby([\"MSISDN/Number\"]).agg({'Bearer Id':'count', 'Dur. (ms).1':'sum', 'Total UL (Bytes)':'sum', 'Total DL (Bytes)':'sum'}).sort_values(by=\"Dur. (ms).1\", ascending = False)\n",
    "first_decile = users.iloc[0:10,:]\n",
    "second_decile = users.iloc[10:20,:]\n",
    "third_decile = users.iloc[20:30,:]\n",
    "fourth_decile = users.iloc[30:40,:]\n",
    "fifth_decile = users.iloc[40:50,:]\n",
    "\n",
    "#print total data of each decile group\n",
    "print(\"Total data of the first decile is: \",first_decile[\"Total DL (Bytes)\"].sum() + first_decile[\"Total UL (Bytes)\"].sum())\n",
    "print(\"Total data of the second decile is: \",second_decile[\"Total DL (Bytes)\"].sum() + second_decile[\"Total UL (Bytes)\"].sum())\n",
    "print(\"Total data of the third decile is: \",third_decile[\"Total DL (Bytes)\"].sum() + third_decile[\"Total UL (Bytes)\"].sum())\n",
    "print(\"Total data of the fourth decile is: \",fourth_decile[\"Total DL (Bytes)\"].sum() + fourth_decile[\"Total UL (Bytes)\"].sum())\n",
    "print(\"Total data of the fifth decile is: \",fifth_decile[\"Total DL (Bytes)\"].sum() + fifth_decile[\"Total UL (Bytes)\"].sum())"
   ]
  },
  {
   "cell_type": "markdown",
   "id": "bd1fce5b",
   "metadata": {},
   "source": [
    "#Correlation Analysis – compute a correlation matrix for the following variables and interpret your findings: Social Media data, Google data, Email,data, Youtube data, Netflix data, Gaming data, Other data"
   ]
  },
  {
   "cell_type": "code",
   "execution_count": null,
   "id": "58e0daab",
   "metadata": {},
   "outputs": [],
   "source": [
    "#correlation/Relationship of the variables /Applications)\n",
    "correlation = total_usage.corr()\n",
    "sns.heatmap(correlation, annot=True)\n",
    "plt.show()"
   ]
  },
  {
   "cell_type": "markdown",
   "id": "dfa86ed8",
   "metadata": {},
   "source": [
    "#Dimensionality Reduction\n",
    "perform a principal component analysis to reduce the dimensions of your data and provide a useful interpretation of the results (Provide your interpretation in four (4) bullet points-maximum)"
   ]
  },
  {
   "cell_type": "code",
   "execution_count": null,
   "id": "a1444e14",
   "metadata": {},
   "outputs": [],
   "source": [
    "#use PCA to get 4 principal components\n",
    "\n",
    "pca = PCA(n_components=4)\n",
    "principal_components = pca.fit_transform(total_usage)\n",
    "principal_Df = pd.DataFrame(data = principal_components\n",
    "             , columns = ['pc_1', 'pc_2', 'pc_3', 'pc_4'])\n",
    "principal_Df"
   ]
  },
  {
   "cell_type": "markdown",
   "id": "1a400a36",
   "metadata": {},
   "source": [
    "#Task 2 - User Engagement analysis.\n",
    "engagement metrics:\n",
    "\n",
    "● sessions frequency.\n",
    "● the duration of the session.\n",
    "● the sessions total traffic (download and upload (bytes))\n",
    "Task 2.1 - Based on the above:\n",
    "\n",
    "Aggregate the above metrics per customer id (MSISDN) and report the top 10 customers per engagement metric Normalize each engagement metric and run a k-means (k=3) to classify customers in three groups of engagement."
   ]
  },
  {
   "cell_type": "code",
   "execution_count": null,
   "id": "f85fec0c",
   "metadata": {},
   "outputs": [],
   "source": [
    "#adding total traffic to the data\n",
    "df[\"Total Traffic\"] = df[\"Total UL (Bytes)\"] + df[\"Total DL (Bytes)\"]\n",
    "engagement = df.groupby('MSISDN/Number').agg({'Bearer Id':'count', 'Dur. (ms).1':'sum', 'Total Traffic':'sum'})\n",
    "\n",
    "\n",
    "print(\"Top ten frequent users: \\n\", engagement.sort_values(by=\"Bearer Id\", ascending=False).head(10))\n",
    "print(\"\\n\\nTop ten users with the longest sessions: \\n\", engagement.sort_values(by=\"Dur. (ms).1\", ascending=False).head(10))\n",
    "print(\"\\n\\nTop ten users with the most data usage: \\n\", engagement.sort_values(by=\"Total Traffic\", ascending=False).head(10))"
   ]
  },
  {
   "cell_type": "code",
   "execution_count": null,
   "id": "e125064a",
   "metadata": {},
   "outputs": [],
   "source": [
    "engagement.describe()\n"
   ]
  },
  {
   "cell_type": "markdown",
   "id": "1bb340d8",
   "metadata": {},
   "source": [
    "#Normalize each engagement metric and run a k-means (k=3) to classify customers in three groups of engagement"
   ]
  },
  {
   "cell_type": "code",
   "execution_count": null,
   "id": "3bce29e1",
   "metadata": {},
   "outputs": [],
   "source": [
    "# normalizing the engagement dataframe\n",
    "norm_engagement = (engagement - engagement.mean())/engagement.std()\n",
    "norm_engagement.describe()"
   ]
  },
  {
   "cell_type": "code",
   "execution_count": null,
   "id": "ab4a0cc1",
   "metadata": {},
   "outputs": [],
   "source": [
    "#checking the normalized variables\n",
    "norm_engagement[\"Bearer Id\"].hist(bins=50)"
   ]
  },
  {
   "cell_type": "code",
   "execution_count": null,
   "id": "34d5fca4",
   "metadata": {},
   "outputs": [],
   "source": [
    "norm_engagement[\"Dur. (ms).1\"].hist(bins=50)\n"
   ]
  },
  {
   "cell_type": "code",
   "execution_count": null,
   "id": "29f17022",
   "metadata": {},
   "outputs": [],
   "source": [
    "norm_engagement[\"Total Traffic\"].hist(bins=50)"
   ]
  },
  {
   "cell_type": "code",
   "execution_count": 698,
   "id": "49d989da",
   "metadata": {},
   "outputs": [
    {
     "data": {
      "text/plain": [
       "KMeans(n_clusters=3)"
      ]
     },
     "execution_count": 698,
     "metadata": {},
     "output_type": "execute_result"
    }
   ],
   "source": [
    "#perform kmeans clustering with k=3\n",
    "kmeans_3k = KMeans(n_clusters = 3)\n",
    "kmeans_3k.fit(norm_engagement)"
   ]
  },
  {
   "cell_type": "code",
   "execution_count": 699,
   "id": "a34127fa",
   "metadata": {},
   "outputs": [
    {
     "data": {
      "text/plain": [
       "KMeans(n_clusters=3, n_jobs=None, precompute_distances='auto')"
      ]
     },
     "execution_count": 699,
     "metadata": {},
     "output_type": "execute_result"
    }
   ],
   "source": [
    "KMeans(algorithm='auto', copy_x=True, init='k-means++', max_iter=300,\n",
    "       n_clusters=3, n_init=10, n_jobs=None, precompute_distances='auto',\n",
    "       random_state=None, tol=0.0001, verbose=0)"
   ]
  },
  {
   "cell_type": "code",
   "execution_count": 701,
   "id": "9e7ad034",
   "metadata": {},
   "outputs": [
    {
     "ename": "KeyError",
     "evalue": "'n_clusters'",
     "output_type": "error",
     "traceback": [
      "\u001b[1;31m---------------------------------------------------------------------------\u001b[0m",
      "\u001b[1;31mKeyError\u001b[0m                                  Traceback (most recent call last)",
      "\u001b[1;32mC:\\ProgramData\\Anaconda3\\lib\\site-packages\\pandas\\core\\indexes\\base.py\u001b[0m in \u001b[0;36mget_loc\u001b[1;34m(self, key, method, tolerance)\u001b[0m\n\u001b[0;32m   3079\u001b[0m             \u001b[1;32mtry\u001b[0m\u001b[1;33m:\u001b[0m\u001b[1;33m\u001b[0m\u001b[1;33m\u001b[0m\u001b[0m\n\u001b[1;32m-> 3080\u001b[1;33m                 \u001b[1;32mreturn\u001b[0m \u001b[0mself\u001b[0m\u001b[1;33m.\u001b[0m\u001b[0m_engine\u001b[0m\u001b[1;33m.\u001b[0m\u001b[0mget_loc\u001b[0m\u001b[1;33m(\u001b[0m\u001b[0mcasted_key\u001b[0m\u001b[1;33m)\u001b[0m\u001b[1;33m\u001b[0m\u001b[1;33m\u001b[0m\u001b[0m\n\u001b[0m\u001b[0;32m   3081\u001b[0m             \u001b[1;32mexcept\u001b[0m \u001b[0mKeyError\u001b[0m \u001b[1;32mas\u001b[0m \u001b[0merr\u001b[0m\u001b[1;33m:\u001b[0m\u001b[1;33m\u001b[0m\u001b[1;33m\u001b[0m\u001b[0m\n",
      "\u001b[1;32mpandas\\_libs\\index.pyx\u001b[0m in \u001b[0;36mpandas._libs.index.IndexEngine.get_loc\u001b[1;34m()\u001b[0m\n",
      "\u001b[1;32mpandas\\_libs\\index.pyx\u001b[0m in \u001b[0;36mpandas._libs.index.IndexEngine.get_loc\u001b[1;34m()\u001b[0m\n",
      "\u001b[1;32mpandas\\_libs\\hashtable_class_helper.pxi\u001b[0m in \u001b[0;36mpandas._libs.hashtable.PyObjectHashTable.get_item\u001b[1;34m()\u001b[0m\n",
      "\u001b[1;32mpandas\\_libs\\hashtable_class_helper.pxi\u001b[0m in \u001b[0;36mpandas._libs.hashtable.PyObjectHashTable.get_item\u001b[1;34m()\u001b[0m\n",
      "\u001b[1;31mKeyError\u001b[0m: 'n_clusters'",
      "\nThe above exception was the direct cause of the following exception:\n",
      "\u001b[1;31mKeyError\u001b[0m                                  Traceback (most recent call last)",
      "\u001b[1;32m<ipython-input-701-f5c119541f3e>\u001b[0m in \u001b[0;36m<module>\u001b[1;34m\u001b[0m\n\u001b[0;32m      1\u001b[0m \u001b[1;31m#plotting clusters  ()\u001b[0m\u001b[1;33m\u001b[0m\u001b[1;33m\u001b[0m\u001b[1;33m\u001b[0m\u001b[0m\n\u001b[1;32m----> 2\u001b[1;33m \u001b[0msns\u001b[0m\u001b[1;33m.\u001b[0m\u001b[0mscatterplot\u001b[0m\u001b[1;33m(\u001b[0m\u001b[0mx\u001b[0m\u001b[1;33m=\u001b[0m\u001b[0mnorm_engagement\u001b[0m\u001b[1;33m.\u001b[0m\u001b[0miloc\u001b[0m\u001b[1;33m[\u001b[0m\u001b[1;33m:\u001b[0m\u001b[1;33m,\u001b[0m\u001b[1;36m0\u001b[0m\u001b[1;33m]\u001b[0m\u001b[1;33m,\u001b[0m \u001b[0my\u001b[0m\u001b[1;33m=\u001b[0m\u001b[0mnorm_engagement\u001b[0m\u001b[1;33m.\u001b[0m\u001b[0miloc\u001b[0m\u001b[1;33m[\u001b[0m\u001b[1;33m:\u001b[0m\u001b[1;33m,\u001b[0m\u001b[1;36m1\u001b[0m\u001b[1;33m]\u001b[0m\u001b[1;33m,\u001b[0m \u001b[0mhue\u001b[0m\u001b[1;33m=\u001b[0m\u001b[0mnorm_engagement\u001b[0m\u001b[1;33m[\u001b[0m\u001b[1;34m\"n_clusters\"\u001b[0m\u001b[1;33m]\u001b[0m\u001b[1;33m,\u001b[0m \u001b[0mlegend\u001b[0m\u001b[1;33m=\u001b[0m\u001b[1;34m\"full\"\u001b[0m\u001b[1;33m)\u001b[0m\u001b[1;33m\u001b[0m\u001b[1;33m\u001b[0m\u001b[0m\n\u001b[0m",
      "\u001b[1;32mC:\\ProgramData\\Anaconda3\\lib\\site-packages\\pandas\\core\\frame.py\u001b[0m in \u001b[0;36m__getitem__\u001b[1;34m(self, key)\u001b[0m\n\u001b[0;32m   3022\u001b[0m             \u001b[1;32mif\u001b[0m \u001b[0mself\u001b[0m\u001b[1;33m.\u001b[0m\u001b[0mcolumns\u001b[0m\u001b[1;33m.\u001b[0m\u001b[0mnlevels\u001b[0m \u001b[1;33m>\u001b[0m \u001b[1;36m1\u001b[0m\u001b[1;33m:\u001b[0m\u001b[1;33m\u001b[0m\u001b[1;33m\u001b[0m\u001b[0m\n\u001b[0;32m   3023\u001b[0m                 \u001b[1;32mreturn\u001b[0m \u001b[0mself\u001b[0m\u001b[1;33m.\u001b[0m\u001b[0m_getitem_multilevel\u001b[0m\u001b[1;33m(\u001b[0m\u001b[0mkey\u001b[0m\u001b[1;33m)\u001b[0m\u001b[1;33m\u001b[0m\u001b[1;33m\u001b[0m\u001b[0m\n\u001b[1;32m-> 3024\u001b[1;33m             \u001b[0mindexer\u001b[0m \u001b[1;33m=\u001b[0m \u001b[0mself\u001b[0m\u001b[1;33m.\u001b[0m\u001b[0mcolumns\u001b[0m\u001b[1;33m.\u001b[0m\u001b[0mget_loc\u001b[0m\u001b[1;33m(\u001b[0m\u001b[0mkey\u001b[0m\u001b[1;33m)\u001b[0m\u001b[1;33m\u001b[0m\u001b[1;33m\u001b[0m\u001b[0m\n\u001b[0m\u001b[0;32m   3025\u001b[0m             \u001b[1;32mif\u001b[0m \u001b[0mis_integer\u001b[0m\u001b[1;33m(\u001b[0m\u001b[0mindexer\u001b[0m\u001b[1;33m)\u001b[0m\u001b[1;33m:\u001b[0m\u001b[1;33m\u001b[0m\u001b[1;33m\u001b[0m\u001b[0m\n\u001b[0;32m   3026\u001b[0m                 \u001b[0mindexer\u001b[0m \u001b[1;33m=\u001b[0m \u001b[1;33m[\u001b[0m\u001b[0mindexer\u001b[0m\u001b[1;33m]\u001b[0m\u001b[1;33m\u001b[0m\u001b[1;33m\u001b[0m\u001b[0m\n",
      "\u001b[1;32mC:\\ProgramData\\Anaconda3\\lib\\site-packages\\pandas\\core\\indexes\\base.py\u001b[0m in \u001b[0;36mget_loc\u001b[1;34m(self, key, method, tolerance)\u001b[0m\n\u001b[0;32m   3080\u001b[0m                 \u001b[1;32mreturn\u001b[0m \u001b[0mself\u001b[0m\u001b[1;33m.\u001b[0m\u001b[0m_engine\u001b[0m\u001b[1;33m.\u001b[0m\u001b[0mget_loc\u001b[0m\u001b[1;33m(\u001b[0m\u001b[0mcasted_key\u001b[0m\u001b[1;33m)\u001b[0m\u001b[1;33m\u001b[0m\u001b[1;33m\u001b[0m\u001b[0m\n\u001b[0;32m   3081\u001b[0m             \u001b[1;32mexcept\u001b[0m \u001b[0mKeyError\u001b[0m \u001b[1;32mas\u001b[0m \u001b[0merr\u001b[0m\u001b[1;33m:\u001b[0m\u001b[1;33m\u001b[0m\u001b[1;33m\u001b[0m\u001b[0m\n\u001b[1;32m-> 3082\u001b[1;33m                 \u001b[1;32mraise\u001b[0m \u001b[0mKeyError\u001b[0m\u001b[1;33m(\u001b[0m\u001b[0mkey\u001b[0m\u001b[1;33m)\u001b[0m \u001b[1;32mfrom\u001b[0m \u001b[0merr\u001b[0m\u001b[1;33m\u001b[0m\u001b[1;33m\u001b[0m\u001b[0m\n\u001b[0m\u001b[0;32m   3083\u001b[0m \u001b[1;33m\u001b[0m\u001b[0m\n\u001b[0;32m   3084\u001b[0m         \u001b[1;32mif\u001b[0m \u001b[0mtolerance\u001b[0m \u001b[1;32mis\u001b[0m \u001b[1;32mnot\u001b[0m \u001b[1;32mNone\u001b[0m\u001b[1;33m:\u001b[0m\u001b[1;33m\u001b[0m\u001b[1;33m\u001b[0m\u001b[0m\n",
      "\u001b[1;31mKeyError\u001b[0m: 'n_clusters'"
     ]
    }
   ],
   "source": [
    "#plotting clusters  ()\n",
    "sns.scatterplot(x=norm_engagement.iloc[:,0], y=norm_engagement.iloc[:,1], hue=norm_engagement[\"n_clusters\"], legend=\"full\")"
   ]
  },
  {
   "cell_type": "code",
   "execution_count": 702,
   "id": "a12da864",
   "metadata": {},
   "outputs": [
    {
     "ename": "NameError",
     "evalue": "name 'cluster_3k' is not defined",
     "output_type": "error",
     "traceback": [
      "\u001b[1;31m---------------------------------------------------------------------------\u001b[0m",
      "\u001b[1;31mNameError\u001b[0m                                 Traceback (most recent call last)",
      "\u001b[1;32m<ipython-input-702-8ad33984af9a>\u001b[0m in \u001b[0;36m<module>\u001b[1;34m\u001b[0m\n\u001b[1;32m----> 1\u001b[1;33m \u001b[0mengagement\u001b[0m\u001b[1;33m[\u001b[0m\u001b[1;34m\"cluster_3k\"\u001b[0m\u001b[1;33m]\u001b[0m\u001b[1;33m=\u001b[0m\u001b[0mcluster_3k\u001b[0m\u001b[1;33m\u001b[0m\u001b[1;33m\u001b[0m\u001b[0m\n\u001b[0m\u001b[0;32m      2\u001b[0m \u001b[0msns\u001b[0m\u001b[1;33m.\u001b[0m\u001b[0mscatterplot\u001b[0m\u001b[1;33m(\u001b[0m\u001b[0mx\u001b[0m\u001b[1;33m=\u001b[0m\u001b[0mengagement\u001b[0m\u001b[1;33m[\u001b[0m\u001b[1;34m\"Dur. (ms).1\"\u001b[0m\u001b[1;33m]\u001b[0m\u001b[1;33m,\u001b[0m \u001b[0my\u001b[0m\u001b[1;33m=\u001b[0m\u001b[0mengagement\u001b[0m\u001b[1;33m[\u001b[0m\u001b[1;34m\"Total Traffic\"\u001b[0m\u001b[1;33m]\u001b[0m\u001b[1;33m,\u001b[0m \u001b[0mhue\u001b[0m\u001b[1;33m=\u001b[0m\u001b[0mengagement\u001b[0m\u001b[1;33m[\u001b[0m\u001b[1;34m\"cluster_3k\"\u001b[0m\u001b[1;33m]\u001b[0m\u001b[1;33m,\u001b[0m \u001b[0mlegend\u001b[0m\u001b[1;33m=\u001b[0m\u001b[1;34m\"full\"\u001b[0m\u001b[1;33m)\u001b[0m\u001b[1;33m\u001b[0m\u001b[1;33m\u001b[0m\u001b[0m\n",
      "\u001b[1;31mNameError\u001b[0m: name 'cluster_3k' is not defined"
     ]
    }
   ],
   "source": [
    "engagement[\"cluster_3k\"]=cluster_3k\n",
    "sns.scatterplot(x=engagement[\"Dur. (ms).1\"], y=engagement[\"Total Traffic\"], hue=engagement[\"cluster_3k\"], legend=\"full\")\n"
   ]
  },
  {
   "cell_type": "code",
   "execution_count": null,
   "id": "c20919d4",
   "metadata": {},
   "outputs": [],
   "source": [
    "#number of users in each cluster\n",
    "print(\"C.   Total Users\")\n",
    "engagement[\"cluster_3k\"].value_counts()"
   ]
  },
  {
   "cell_type": "code",
   "execution_count": 703,
   "id": "b855359b",
   "metadata": {},
   "outputs": [
    {
     "ename": "AttributeError",
     "evalue": "'DataFrame' object has no attribute 'cluster_3k'",
     "output_type": "error",
     "traceback": [
      "\u001b[1;31m---------------------------------------------------------------------------\u001b[0m",
      "\u001b[1;31mAttributeError\u001b[0m                            Traceback (most recent call last)",
      "\u001b[1;32m<ipython-input-703-1d419811fc9d>\u001b[0m in \u001b[0;36m<module>\u001b[1;34m\u001b[0m\n\u001b[1;32m----> 1\u001b[1;33m \u001b[0mengagement\u001b[0m\u001b[1;33m[\u001b[0m\u001b[0mengagement\u001b[0m\u001b[1;33m.\u001b[0m\u001b[0mcluster_3k\u001b[0m \u001b[1;33m==\u001b[0m \u001b[1;36m0\u001b[0m\u001b[1;33m]\u001b[0m\u001b[1;33m.\u001b[0m\u001b[0mdescribe\u001b[0m\u001b[1;33m(\u001b[0m\u001b[1;33m)\u001b[0m\u001b[1;33m\u001b[0m\u001b[1;33m\u001b[0m\u001b[0m\n\u001b[0m",
      "\u001b[1;32mC:\\ProgramData\\Anaconda3\\lib\\site-packages\\pandas\\core\\generic.py\u001b[0m in \u001b[0;36m__getattr__\u001b[1;34m(self, name)\u001b[0m\n\u001b[0;32m   5463\u001b[0m             \u001b[1;32mif\u001b[0m \u001b[0mself\u001b[0m\u001b[1;33m.\u001b[0m\u001b[0m_info_axis\u001b[0m\u001b[1;33m.\u001b[0m\u001b[0m_can_hold_identifiers_and_holds_name\u001b[0m\u001b[1;33m(\u001b[0m\u001b[0mname\u001b[0m\u001b[1;33m)\u001b[0m\u001b[1;33m:\u001b[0m\u001b[1;33m\u001b[0m\u001b[1;33m\u001b[0m\u001b[0m\n\u001b[0;32m   5464\u001b[0m                 \u001b[1;32mreturn\u001b[0m \u001b[0mself\u001b[0m\u001b[1;33m[\u001b[0m\u001b[0mname\u001b[0m\u001b[1;33m]\u001b[0m\u001b[1;33m\u001b[0m\u001b[1;33m\u001b[0m\u001b[0m\n\u001b[1;32m-> 5465\u001b[1;33m             \u001b[1;32mreturn\u001b[0m \u001b[0mobject\u001b[0m\u001b[1;33m.\u001b[0m\u001b[0m__getattribute__\u001b[0m\u001b[1;33m(\u001b[0m\u001b[0mself\u001b[0m\u001b[1;33m,\u001b[0m \u001b[0mname\u001b[0m\u001b[1;33m)\u001b[0m\u001b[1;33m\u001b[0m\u001b[1;33m\u001b[0m\u001b[0m\n\u001b[0m\u001b[0;32m   5466\u001b[0m \u001b[1;33m\u001b[0m\u001b[0m\n\u001b[0;32m   5467\u001b[0m     \u001b[1;32mdef\u001b[0m \u001b[0m__setattr__\u001b[0m\u001b[1;33m(\u001b[0m\u001b[0mself\u001b[0m\u001b[1;33m,\u001b[0m \u001b[0mname\u001b[0m\u001b[1;33m:\u001b[0m \u001b[0mstr\u001b[0m\u001b[1;33m,\u001b[0m \u001b[0mvalue\u001b[0m\u001b[1;33m)\u001b[0m \u001b[1;33m->\u001b[0m \u001b[1;32mNone\u001b[0m\u001b[1;33m:\u001b[0m\u001b[1;33m\u001b[0m\u001b[1;33m\u001b[0m\u001b[0m\n",
      "\u001b[1;31mAttributeError\u001b[0m: 'DataFrame' object has no attribute 'cluster_3k'"
     ]
    }
   ],
   "source": [
    "engagement[engagement.cluster_3k == 0].describe()\n"
   ]
  },
  {
   "cell_type": "code",
   "execution_count": 709,
   "id": "7bf7ce5a",
   "metadata": {},
   "outputs": [
    {
     "name": "stdout",
     "output_type": "stream",
     "text": [
      "\n",
      "\n",
      "Top ten  Total Other  users: \n",
      " MSISDN/Number\n",
      "3.362632e+10    8.167878e+09\n",
      "3.361489e+10    7.639264e+09\n",
      "3.367588e+10    6.798515e+09\n",
      "3.362578e+10    6.354583e+09\n",
      "3.360313e+10    6.326671e+09\n",
      "3.365973e+10    6.317415e+09\n",
      "3.362695e+10    5.305448e+09\n",
      "3.362708e+10    5.117791e+09\n",
      "3.376127e+10    5.077779e+09\n",
      "3.365836e+10    5.013651e+09\n",
      "Name: Total Other, dtype: float64\n",
      "\n",
      "\n",
      "Top ten  Total Google  users: \n",
      " MSISDN/Number\n",
      "3.362632e+10    152191852.0\n",
      "3.362578e+10    142307915.0\n",
      "3.361489e+10    127973787.0\n",
      "3.376054e+10    123223099.0\n",
      "3.365973e+10    116516345.0\n",
      "3.378632e+10    110254484.0\n",
      "3.367588e+10    109860502.0\n",
      "3.366716e+10    105032696.0\n",
      "3.376127e+10     97089988.0\n",
      "3.369876e+10     91935151.0\n",
      "Name: Total Google, dtype: float64\n",
      "\n",
      "\n",
      "Top ten  Total Youtube  users: \n",
      " MSISDN/Number\n",
      "3.362578e+10    452958769.0\n",
      "3.376054e+10    396289198.0\n",
      "3.361489e+10    394370218.0\n",
      "3.362632e+10    374483047.0\n",
      "3.367588e+10    317410572.0\n",
      "3.366716e+10    315231310.0\n",
      "3.362708e+10    308790774.0\n",
      "3.376041e+10    303169107.0\n",
      "3.369879e+10    302661958.0\n",
      "3.360313e+10    284090139.0\n",
      "Name: Total Youtube, dtype: float64\n",
      "\n",
      "\n",
      "Top ten  Total Netflix  users: \n",
      " MSISDN/Number\n",
      "3.365973e+10    399519079.0\n",
      "3.361489e+10    361401046.0\n",
      "3.362578e+10    356980607.0\n",
      "3.376054e+10    334643269.0\n",
      "3.362632e+10    328725740.0\n",
      "3.376041e+10    318347546.0\n",
      "3.366716e+10    313939488.0\n",
      "3.367588e+10    309093159.0\n",
      "3.378632e+10    305939790.0\n",
      "3.376127e+10    292091341.0\n",
      "Name: Total Netflix, dtype: float64\n",
      "\n",
      "\n",
      "Top ten  Total Email  users: \n",
      " MSISDN/Number\n",
      "3.362632e+10    42418782.0\n",
      "3.361489e+10    40788634.0\n",
      "3.362578e+10    40633966.0\n",
      "3.378632e+10    36310123.0\n",
      "3.365973e+10    35999792.0\n",
      "3.376054e+10    33693767.0\n",
      "3.367588e+10    31514421.0\n",
      "3.366546e+10    30417885.0\n",
      "3.366716e+10    30335796.0\n",
      "3.369879e+10    29059042.0\n",
      "Name: Total Email, dtype: float64\n",
      "\n",
      "\n",
      "Top ten  Total Gaming  users: \n",
      " MSISDN/Number\n",
      "3.361489e+10    7.749432e+09\n",
      "3.376054e+10    7.461045e+09\n",
      "3.362578e+10    7.326673e+09\n",
      "3.367588e+10    6.970568e+09\n",
      "3.362632e+10    6.887572e+09\n",
      "3.365973e+10    6.725559e+09\n",
      "3.366646e+10    6.646303e+09\n",
      "3.376041e+10    6.268620e+09\n",
      "3.366471e+10    6.103856e+09\n",
      "3.369879e+10    5.753743e+09\n",
      "Name: Total Gaming, dtype: float64\n",
      "\n",
      "\n",
      "Top ten  Total Social Media  users: \n",
      " MSISDN/Number\n",
      "3.362632e+10    43374779.0\n",
      "3.376054e+10    39783189.0\n",
      "3.365973e+10    35412358.0\n",
      "3.361489e+10    28294544.0\n",
      "3.362578e+10    27135500.0\n",
      "3.366716e+10    24247850.0\n",
      "3.378632e+10    23974919.0\n",
      "3.366907e+10    23800834.0\n",
      "3.360313e+10    23077825.0\n",
      "3.365849e+10    23000066.0\n",
      "Name: Total Social Media, dtype: float64\n"
     ]
    }
   ],
   "source": [
    "app_total = df.groupby('MSISDN/Number').agg({ 'Total Other':'sum',\"Total Google\":'sum', \"Total Youtube\":'sum', \"Total Netflix\":'sum', \"Total Email\":'sum', \"Total Gaming\":'sum', \"Total Social Media\":'sum', \"Total Other\":'sum'})\n",
    "\n",
    "\n",
    "for coll in app_total:\n",
    "    print(\"\\n\\nTop ten \",coll,\" users: \\n\", app_total.sort_values(by=coll, ascending=False)[coll].head(10))"
   ]
  },
  {
   "cell_type": "code",
   "execution_count": 710,
   "id": "14cdbd31",
   "metadata": {},
   "outputs": [
    {
     "name": "stdout",
     "output_type": "stream",
     "text": [
      "Top three used applications: \n"
     ]
    },
    {
     "data": {
      "text/html": [
       "<div>\n",
       "<style scoped>\n",
       "    .dataframe tbody tr th:only-of-type {\n",
       "        vertical-align: middle;\n",
       "    }\n",
       "\n",
       "    .dataframe tbody tr th {\n",
       "        vertical-align: top;\n",
       "    }\n",
       "\n",
       "    .dataframe thead th {\n",
       "        text-align: right;\n",
       "    }\n",
       "</style>\n",
       "<table border=\"1\" class=\"dataframe\">\n",
       "  <thead>\n",
       "    <tr style=\"text-align: right;\">\n",
       "      <th></th>\n",
       "      <th>Name</th>\n",
       "      <th>Total Data</th>\n",
       "    </tr>\n",
       "  </thead>\n",
       "  <tbody>\n",
       "    <tr>\n",
       "      <th>0</th>\n",
       "      <td>Total Other</td>\n",
       "      <td>6.395425e+13</td>\n",
       "    </tr>\n",
       "    <tr>\n",
       "      <th>2</th>\n",
       "      <td>Total Youtube</td>\n",
       "      <td>3.372204e+12</td>\n",
       "    </tr>\n",
       "    <tr>\n",
       "      <th>3</th>\n",
       "      <td>Total Netflix</td>\n",
       "      <td>3.370060e+12</td>\n",
       "    </tr>\n",
       "  </tbody>\n",
       "</table>\n",
       "</div>"
      ],
      "text/plain": [
       "            Name    Total Data\n",
       "0    Total Other  6.395425e+13\n",
       "2  Total Youtube  3.372204e+12\n",
       "3  Total Netflix  3.370060e+12"
      ]
     },
     "execution_count": 710,
     "metadata": {},
     "output_type": "execute_result"
    }
   ],
   "source": [
    "#print top 3 used apps\n",
    "top_used = pd.DataFrame(columns=[\"Name\", \"Total Data\"])\n",
    "for col in app_total:\n",
    "    top_used.loc[len(top_used)] = [col, app_total[col].sum()]\n",
    "\n",
    "top_three = top_used.sort_values(by = \"Total Data\", ascending = False)[1:4]\n",
    "print(\"Top three used applications: \")\n",
    "top_three"
   ]
  },
  {
   "cell_type": "code",
   "execution_count": 711,
   "id": "cdbeade5",
   "metadata": {},
   "outputs": [
    {
     "data": {
      "text/plain": [
       "Text(0.5, 1.0, 'Top 3 most used apps')"
      ]
     },
     "execution_count": 711,
     "metadata": {},
     "output_type": "execute_result"
    },
    {
     "data": {
      "image/png": "[encoded data removed]",
      "text/plain": [
       "<Figure size 432x288 with 1 Axes>"
      ]
     },
     "metadata": {
      "image/png": {
       "height": 265,
       "width": 362
      }
     },
     "output_type": "display_data"
    }
   ],
   "source": [
    "#plot the top 3 apps\n",
    "ind = np.arange(3)\n",
    "width =0.8\n",
    "\n",
    "plt.xticks(ind , (\"Gaming\", \"Other\", \"YouTube\"))\n",
    "plt.bar(ind, top_three[\"Total Data\"], width, label = \"Total Usage\")\n",
    "plt.title(\"Top 3 most used apps\")"
   ]
  },
  {
   "cell_type": "code",
   "execution_count": 712,
   "id": "d8c585cc",
   "metadata": {},
   "outputs": [],
   "source": [
    "#calculating inertia for k values 1 -19\n",
    "inertia = []\n",
    "for cluster in range(1,20):\n",
    "    km = KMeans(n_jobs = -1, n_clusters = cluster)\n",
    "    km.fit(norm_engagement)\n",
    "    inertia.append(km.inertia_)"
   ]
  },
  {
   "cell_type": "code",
   "execution_count": 713,
   "id": "0b6cf3b6",
   "metadata": {},
   "outputs": [
    {
     "data": {
      "text/plain": [
       "Text(0, 0.5, 'Inertia')"
      ]
     },
     "execution_count": 713,
     "metadata": {},
     "output_type": "execute_result"
    },
    {
     "data": {
      "image/png": "[encoded data removed]",
      "text/plain": [
       "<Figure size 864x432 with 1 Axes>"
      ]
     },
     "metadata": {
      "image/png": {
       "height": 373,
       "width": 745
      }
     },
     "output_type": "display_data"
    }
   ],
   "source": [
    "#plotting k Vs inertia \n",
    "frame = pd.DataFrame({'k':range(1,20), 'inertia':inertia})\n",
    "\n",
    "plt.figure(figsize=(12,6))\n",
    "plt.plot(frame['k'], frame['inertia'], marker='o')\n",
    "plt.xlabel('Number of clusters')\n",
    "plt.ylabel('Inertia')"
   ]
  },
  {
   "cell_type": "code",
   "execution_count": 714,
   "id": "ae1e7196",
   "metadata": {},
   "outputs": [
    {
     "data": {
      "text/plain": [
       "<AxesSubplot:xlabel='Bearer Id', ylabel='Dur. (ms).1'>"
      ]
     },
     "execution_count": 714,
     "metadata": {},
     "output_type": "execute_result"
    },
    {
     "data": {
      "image/png": "[encoded data removed]",
      "text/plain": [
       "<Figure size 432x288 with 1 Axes>"
      ]
     },
     "metadata": {
      "image/png": {
       "height": 264,
       "width": 391
      }
     },
     "output_type": "display_data"
    }
   ],
   "source": [
    "#taking k = 4 and clustering\n",
    "kmeans_4k = KMeans(n_clusters=4)\n",
    "kmeans_4k.fit(norm_engagement)\n",
    "\n",
    "sns.scatterplot(x=norm_engagement.iloc[:,0], y=norm_engagement.iloc[:,1], hue=kmeans_4k.labels_, legend=\"full\")"
   ]
  },
  {
   "cell_type": "markdown",
   "id": "afbdf921",
   "metadata": {},
   "source": [
    "#Task 3. 1 - Aggregate, per customer, the following information (treat missing & outliers by replacing by the mean or the mode of the corresponding variable):\n",
    "● Average TCP retransmission\n",
    "● Average RTT\n",
    "● Handset type"
   ]
  },
  {
   "cell_type": "code",
   "execution_count": 720,
   "id": "4b4ebaa6",
   "metadata": {},
   "outputs": [],
   "source": [
    "#adding total network parameters\n",
    "df[\"Total RTT\"] = df[\"Avg RTT DL (ms)\"] + df[\"Avg RTT UL (ms)\"]\n",
    "df[\"Total TP\"] = df[\"Avg Bearer TP DL (kbps)\"] + df[\"Avg Bearer TP UL (kbps)\"]\n",
    "df[\"Total TCP\"] = df[\"TCP DL Retrans. Vol (Bytes)\"] + df[\"TCP UL Retrans. Vol (Bytes)\"]\n",
    "experience = df.groupby('MSISDN/Number').agg({'Total TCP':'sum', 'Total RTT':'sum', 'Total TP':'sum', 'Handset Type':'count'})#"
   ]
  },
  {
   "cell_type": "markdown",
   "id": "2e3da400",
   "metadata": {},
   "source": [
    "#Task 3.2 - Compute & list 10 of the top, bottom and most frequent:\n",
    "a. TCP values in the dataset.\n",
    "b. RTT values in the dataset.\n",
    "c. Throughput values in the dataset."
   ]
  },
  {
   "cell_type": "code",
   "execution_count": 721,
   "id": "6f299728",
   "metadata": {},
   "outputs": [
    {
     "name": "stdout",
     "output_type": "stream",
     "text": [
      "\n",
      "\n",
      "Top ten TCP values: \n",
      "                   Total TCP  Total RTT  Total TP  Handset Type\n",
      "MSISDN/Number                                                 \n",
      "3.366773e+10   8.354209e+09      703.0  379713.0             5\n",
      "3.365908e+10   7.941860e+09      396.0  210259.0             3\n",
      "3.376128e+10   6.043978e+09      351.0  144570.0             2\n",
      "3.376264e+10   5.879989e+09     2860.0  549661.0             5\n",
      "3.365066e+10   5.593366e+09     1543.0  259548.0             5\n",
      "3.366318e+10   5.566929e+09      583.0  127603.0             4\n",
      "3.376357e+10   5.179459e+09      479.0  120288.0             2\n",
      "3.366905e+10   5.174215e+09      321.0  142042.0             4\n",
      "3.365864e+10   5.165857e+09      171.0  105875.0             2\n",
      "3.376386e+10   5.095685e+09     1184.0  312289.0             6\n",
      "\n",
      "\n",
      "Top ten RTT values: \n",
      "                Total TCP  Total RTT  Total TP  Handset Type\n",
      "MSISDN/Number                                              \n",
      "3.366232e+10         0.0    96924.0       3.0             1\n",
      "3.366087e+10         0.0    64670.0     194.0             2\n",
      "3.368369e+10         0.0    54848.0      21.0             1\n",
      "3.369855e+10     14301.0    46021.0     303.0             2\n",
      "3.376181e+10     68573.0    37084.0   21200.0             4\n",
      "3.366879e+10         0.0    36304.0     108.0             2\n",
      "3.376094e+10    540582.0    27278.0    5148.0             1\n",
      "3.360679e+10         0.0    26300.0     144.0             1\n",
      "3.367182e+10         0.0    25715.0      71.0             1\n",
      "3.378187e+10    199904.0    25388.0    1608.0             1\n",
      "\n",
      "\n",
      "Top ten Throughput values: \n",
      "                   Total TCP  Total RTT  Total TP  Handset Type\n",
      "MSISDN/Number                                                 \n",
      "3.376233e+10   4.348242e+06      400.0  902222.0             9\n",
      "3.366871e+10   1.429871e+08      500.0  840424.0             4\n",
      "3.365955e+10   3.390105e+07      588.0  798342.0             8\n",
      "3.366995e+10   6.271756e+07      370.0  690815.0             4\n",
      "3.366843e+10   7.876596e+08      382.0  676858.0             4\n",
      "3.369817e+10   6.138962e+07      106.0  618797.0             6\n",
      "3.362570e+10   6.270218e+06      454.0  564179.0             7\n",
      "3.365808e+10   2.878409e+07      567.0  550352.0             5\n",
      "3.376264e+10   5.879989e+09     2860.0  549661.0             5\n",
      "3.366566e+10   1.124825e+07      188.0  530353.0             2\n"
     ]
    }
   ],
   "source": [
    "print(\"\\n\\nTop ten TCP values: \\n\", experience.sort_values(by=\"Total TCP\", ascending=False).head(10))\n",
    "print(\"\\n\\nTop ten RTT values: \\n\", experience.sort_values(by=\"Total RTT\", ascending=False).head(10))\n",
    "print(\"\\n\\nTop ten Throughput values: \\n\", experience.sort_values(by=\"Total TP\", ascending=False).head(10))"
   ]
  },
  {
   "cell_type": "code",
   "execution_count": 722,
   "id": "605d5a50",
   "metadata": {},
   "outputs": [
    {
     "name": "stdout",
     "output_type": "stream",
     "text": [
      "\n",
      "\n",
      "Bottom ten TCP values: \n",
      "                Total TCP  Total RTT  Total TP  Handset Type\n",
      "MSISDN/Number                                              \n",
      "3.360100e+10         0.0       46.0      76.0             1\n",
      "3.366674e+10         0.0       81.0     188.0             2\n",
      "3.366674e+10         0.0      122.0     157.0             2\n",
      "3.366674e+10         0.0        0.0      79.0             1\n",
      "3.366674e+10         0.0       40.0      42.0             1\n",
      "3.366674e+10         0.0       58.0   17890.0             1\n",
      "3.366674e+10         0.0       33.0      54.0             1\n",
      "3.366674e+10         0.0        0.0      99.0             1\n",
      "3.366674e+10         0.0      114.0     816.0             1\n",
      "3.366674e+10         0.0       28.0      84.0             1\n",
      "\n",
      "\n",
      "Bottom ten RTT values: \n",
      "                Total TCP  Total RTT  Total TP  Handset Type\n",
      "MSISDN/Number                                              \n",
      "8.823971e+14         0.0        0.0       2.0             1\n",
      "3.367752e+10         0.0        0.0     161.0             1\n",
      "3.367752e+10         0.0        0.0     101.0             1\n",
      "3.367753e+10         0.0        0.0     100.0             1\n",
      "3.367753e+10         0.0        0.0     112.0             1\n",
      "3.365029e+10         0.0        0.0      98.0             1\n",
      "3.365029e+10         0.0        0.0      55.0             1\n",
      "3.367756e+10         0.0        0.0      87.0             1\n",
      "3.365029e+10         0.0        0.0      86.0             1\n",
      "3.367757e+10         0.0        0.0      86.0             1\n",
      "\n",
      "\n",
      "Bottom ten Throughput values: \n",
      "                Total TCP  Total RTT  Total TP  Handset Type\n",
      "MSISDN/Number                                              \n",
      "3.377776e+10         0.0        0.0       0.0             1\n",
      "3.361064e+10         0.0        0.0       0.0             1\n",
      "3.365934e+10         0.0        0.0       0.0             1\n",
      "3.365947e+10         0.0        0.0       0.0             1\n",
      "3.369859e+10         0.0        0.0       0.0             1\n",
      "3.369805e+10         0.0        0.0       0.0             1\n",
      "3.361152e+10         0.0        0.0       0.0             2\n",
      "3.365908e+10         0.0        0.0       0.0             1\n",
      "3.368886e+10         0.0        0.0       0.0             1\n",
      "3.366034e+10         0.0        0.0       0.0             1\n"
     ]
    }
   ],
   "source": [
    "print(\"\\n\\nBottom ten TCP values: \\n\", experience.sort_values(by=\"Total TCP\", ascending=True).head(10))\n",
    "print(\"\\n\\nBottom ten RTT values: \\n\", experience.sort_values(by=\"Total RTT\", ascending=True).head(10))\n",
    "print(\"\\n\\nBottom ten Throughput values: \\n\", experience.sort_values(by=\"Total TP\", ascending=True).head(10))"
   ]
  },
  {
   "cell_type": "code",
   "execution_count": 723,
   "id": "c16c8e9c",
   "metadata": {},
   "outputs": [
    {
     "name": "stdout",
     "output_type": "stream",
     "text": [
      "\n",
      "\n",
      "Ten most frequent TCP values: \n",
      " Total TCP\n",
      "0.0        67565\n",
      "2660.0        21\n",
      "5320.0        21\n",
      "6650.0        18\n",
      "3990.0        17\n",
      "7980.0        13\n",
      "1873.0         9\n",
      "11970.0        8\n",
      "2648.0         8\n",
      "10640.0        7\n",
      "dtype: int64\n",
      "\n",
      "\n",
      "Ten most frequent RTT values: \n",
      " Total RTT\n",
      "0.0     18546\n",
      "29.0     2778\n",
      "39.0     2245\n",
      "38.0     1541\n",
      "30.0     1478\n",
      "40.0     1466\n",
      "28.0     1373\n",
      "49.0     1268\n",
      "31.0     1096\n",
      "41.0     1095\n",
      "dtype: int64\n",
      "\n",
      "\n",
      "Ten most frequent Throughput values: \n",
      " Total TP\n",
      "15.0    2685\n",
      "63.0    2072\n",
      "97.0    1023\n",
      "90.0    1005\n",
      "98.0     971\n",
      "96.0     866\n",
      "99.0     853\n",
      "89.0     817\n",
      "95.0     798\n",
      "91.0     793\n",
      "dtype: int64\n"
     ]
    }
   ],
   "source": [
    "top10_tcp = experience.groupby('Total TCP').size().sort_values(ascending = False).head(10)\n",
    "top10_tcp\n",
    "\n",
    "top10_rtt = experience.groupby('Total RTT').size().sort_values(ascending = False).head(10)\n",
    "top10_rtt\n",
    "\n",
    "top10_tp = experience.groupby('Total TP').size().sort_values(ascending = False).head(10)\n",
    "top10_tp\n",
    "\n",
    "\n",
    "print(\"\\n\\nTen most frequent TCP values: \\n\", top10_tcp)\n",
    "print(\"\\n\\nTen most frequent RTT values: \\n\", top10_rtt)\n",
    "print(\"\\n\\nTen most frequent Throughput values: \\n\", top10_tp)"
   ]
  },
  {
   "cell_type": "markdown",
   "id": "b69473fd",
   "metadata": {},
   "source": [
    "#Task 3.3 - Compute & report\n",
    "\n",
    "The distribution of the average throughput per handset type and provide interpretation for your findings. The average TCP retransmission view per handset type and provide interpretation for your findings."
   ]
  },
  {
   "cell_type": "code",
   "execution_count": 725,
   "id": "8327ef93",
   "metadata": {},
   "outputs": [
    {
     "name": "stdout",
     "output_type": "stream",
     "text": [
      "\n",
      "\n",
      "Throughput\n",
      "                                  Total TCP  Total RTT     Total TP\n",
      "Handset Type                                                      \n",
      "Huawei B528S-23A              1.042623e+12  2984690.0  833510472.0\n",
      "undefined                     7.873569e+09   550453.0   90414733.0\n",
      "Apple iPhone 7 (A1778)        8.214772e+09   699835.0   77183403.0\n",
      "Apple iPhone 6S (A1688)       1.112880e+10   725131.0   74298231.0\n",
      "Apple iPhone 6 (A1586)        1.022702e+10   902390.0   68735008.0\n",
      "Huawei E5180                  6.022787e+10   342228.0   64368628.0\n",
      "Samsung Galaxy S8 (Sm-G950F)  6.445683e+09   231572.0   63224397.0\n",
      "Apple iPhone Xr (A2105)       8.891681e+09   304898.0   62436108.0\n",
      "Apple iPhone 8 (A1905)        5.501643e+09   504114.0   58106552.0\n",
      "Apple iPhone X (A1901)        7.856175e+09   330971.0   57047497.0\n",
      "\n",
      "\n",
      "TCP Retransmission\n",
      "                             Total TCP  Total RTT     Total TP\n",
      "Handset Type                                                 \n",
      "Huawei B528S-23A         1.042623e+12  2984690.0  833510472.0\n",
      "Huawei E5180             6.022787e+10   342228.0   64368628.0\n",
      "Huawei E5573             1.522859e+10    42266.0    7572221.0\n",
      "Apple iPhone 6S (A1688)  1.112880e+10   725131.0   74298231.0\n",
      "Apple iPhone 6 (A1586)   1.022702e+10   902390.0   68735008.0\n",
      "Apple iPhone Xr (A2105)  8.891681e+09   304898.0   62436108.0\n",
      "Apple iPhone 7 (A1778)   8.214772e+09   699835.0   77183403.0\n",
      "undefined                7.873569e+09   550453.0   90414733.0\n",
      "Apple iPhone X (A1901)   7.856175e+09   330971.0   57047497.0\n",
      "Huawei E5573B            6.510780e+09    23210.0    3981218.0\n"
     ]
    }
   ],
   "source": [
    "handset = df.groupby('Handset Type').agg({'Total TCP':'sum', 'Total RTT':'sum', 'Total TP':'sum'})\n",
    "\n",
    "print(\"\\n\\nThroughput\\n\",handset.sort_values(by=\"Total TP\", ascending = False).head(10))\n",
    "print(\"\\n\\nTCP Retransmission\\n\",handset.sort_values(by=\"Total TCP\", ascending = False).head(10))\n"
   ]
  },
  {
   "cell_type": "markdown",
   "id": "71b9e7e9",
   "metadata": {},
   "source": [
    "#Task 3.4 - Using the experience metrics above, perform a k-means clustering (where k = 3) to segment users into groups of experiences and provide a brief description of each cluster"
   ]
  },
  {
   "cell_type": "code",
   "execution_count": 726,
   "id": "e6a4cf28",
   "metadata": {},
   "outputs": [
    {
     "data": {
      "text/html": [
       "<div>\n",
       "<style scoped>\n",
       "    .dataframe tbody tr th:only-of-type {\n",
       "        vertical-align: middle;\n",
       "    }\n",
       "\n",
       "    .dataframe tbody tr th {\n",
       "        vertical-align: top;\n",
       "    }\n",
       "\n",
       "    .dataframe thead th {\n",
       "        text-align: right;\n",
       "    }\n",
       "</style>\n",
       "<table border=\"1\" class=\"dataframe\">\n",
       "  <thead>\n",
       "    <tr style=\"text-align: right;\">\n",
       "      <th></th>\n",
       "      <th>Total TCP</th>\n",
       "      <th>Total RTT</th>\n",
       "      <th>Total TP</th>\n",
       "      <th>Handset Type</th>\n",
       "    </tr>\n",
       "    <tr>\n",
       "      <th>MSISDN/Number</th>\n",
       "      <th></th>\n",
       "      <th></th>\n",
       "      <th></th>\n",
       "      <th></th>\n",
       "    </tr>\n",
       "  </thead>\n",
       "  <tbody>\n",
       "    <tr>\n",
       "      <th>3.360100e+10</th>\n",
       "      <td>-0.079607</td>\n",
       "      <td>-0.144258</td>\n",
       "      <td>-0.492745</td>\n",
       "      <td>-0.488562</td>\n",
       "    </tr>\n",
       "    <tr>\n",
       "      <th>3.360100e+10</th>\n",
       "      <td>-0.079607</td>\n",
       "      <td>-0.166714</td>\n",
       "      <td>-0.492203</td>\n",
       "      <td>-0.488562</td>\n",
       "    </tr>\n",
       "    <tr>\n",
       "      <th>3.360100e+10</th>\n",
       "      <td>-0.079607</td>\n",
       "      <td>-0.213125</td>\n",
       "      <td>-0.492250</td>\n",
       "      <td>-0.488562</td>\n",
       "    </tr>\n",
       "    <tr>\n",
       "      <th>3.360101e+10</th>\n",
       "      <td>-0.079607</td>\n",
       "      <td>-0.087367</td>\n",
       "      <td>-0.488692</td>\n",
       "      <td>-0.488562</td>\n",
       "    </tr>\n",
       "    <tr>\n",
       "      <th>3.360101e+10</th>\n",
       "      <td>-0.017705</td>\n",
       "      <td>-0.034968</td>\n",
       "      <td>0.844978</td>\n",
       "      <td>0.752099</td>\n",
       "    </tr>\n",
       "    <tr>\n",
       "      <th>...</th>\n",
       "      <td>...</td>\n",
       "      <td>...</td>\n",
       "      <td>...</td>\n",
       "      <td>...</td>\n",
       "    </tr>\n",
       "    <tr>\n",
       "      <th>3.379000e+10</th>\n",
       "      <td>-0.078167</td>\n",
       "      <td>-0.135275</td>\n",
       "      <td>-0.250287</td>\n",
       "      <td>-0.488562</td>\n",
       "    </tr>\n",
       "    <tr>\n",
       "      <th>3.379000e+10</th>\n",
       "      <td>-0.079607</td>\n",
       "      <td>-0.153240</td>\n",
       "      <td>-0.491802</td>\n",
       "      <td>-0.488562</td>\n",
       "    </tr>\n",
       "    <tr>\n",
       "      <th>3.197021e+12</th>\n",
       "      <td>-0.079607</td>\n",
       "      <td>-0.213125</td>\n",
       "      <td>-0.494512</td>\n",
       "      <td>-0.488562</td>\n",
       "    </tr>\n",
       "    <tr>\n",
       "      <th>3.370000e+14</th>\n",
       "      <td>-0.079607</td>\n",
       "      <td>-0.213125</td>\n",
       "      <td>-0.493758</td>\n",
       "      <td>-0.488562</td>\n",
       "    </tr>\n",
       "    <tr>\n",
       "      <th>8.823971e+14</th>\n",
       "      <td>-0.079607</td>\n",
       "      <td>-0.213125</td>\n",
       "      <td>-0.494489</td>\n",
       "      <td>-0.488562</td>\n",
       "    </tr>\n",
       "  </tbody>\n",
       "</table>\n",
       "<p>106856 rows × 4 columns</p>\n",
       "</div>"
      ],
      "text/plain": [
       "               Total TCP  Total RTT  Total TP  Handset Type\n",
       "MSISDN/Number                                              \n",
       "3.360100e+10   -0.079607  -0.144258 -0.492745     -0.488562\n",
       "3.360100e+10   -0.079607  -0.166714 -0.492203     -0.488562\n",
       "3.360100e+10   -0.079607  -0.213125 -0.492250     -0.488562\n",
       "3.360101e+10   -0.079607  -0.087367 -0.488692     -0.488562\n",
       "3.360101e+10   -0.017705  -0.034968  0.844978      0.752099\n",
       "...                  ...        ...       ...           ...\n",
       "3.379000e+10   -0.078167  -0.135275 -0.250287     -0.488562\n",
       "3.379000e+10   -0.079607  -0.153240 -0.491802     -0.488562\n",
       "3.197021e+12   -0.079607  -0.213125 -0.494512     -0.488562\n",
       "3.370000e+14   -0.079607  -0.213125 -0.493758     -0.488562\n",
       "8.823971e+14   -0.079607  -0.213125 -0.494489     -0.488562\n",
       "\n",
       "[106856 rows x 4 columns]"
      ]
     },
     "execution_count": 726,
     "metadata": {},
     "output_type": "execute_result"
    }
   ],
   "source": [
    "#normalizing the experience dataframe\n",
    "norm_experience = (experience - experience.mean())/experience.std()\n",
    "norm_experience"
   ]
  },
  {
   "cell_type": "code",
   "execution_count": 732,
   "id": "777d3144",
   "metadata": {},
   "outputs": [],
   "source": [
    "#performing kmeans with k=3\n",
    "kmeans_exp = KMeans(n_clusters=3)\n",
    "kmeans_exp.fit(norm_experience)\n",
    "cluster_exp = kmeans_exp.predict(norm_experience)\n",
    "experience_centroids = kmeans_exp.cluster_centers_"
   ]
  },
  {
   "cell_type": "code",
   "execution_count": 731,
   "id": "bc919bb0",
   "metadata": {},
   "outputs": [
    {
     "data": {
      "text/plain": [
       "0    97296\n",
       "2     9333\n",
       "1      227\n",
       "Name: cluster_exp, dtype: int64"
      ]
     },
     "execution_count": 731,
     "metadata": {},
     "output_type": "execute_result"
    }
   ],
   "source": [
    "#assign the clusters\n",
    "norm_experience['cluster_exp'] = cluster_exp\n",
    "norm_experience['cluster_exp'].value_counts()"
   ]
  },
  {
   "cell_type": "code",
   "execution_count": 733,
   "id": "e88182f0",
   "metadata": {},
   "outputs": [
    {
     "data": {
      "text/plain": [
       "<AxesSubplot:xlabel='Total TP', ylabel='Total TCP'>"
      ]
     },
     "execution_count": 733,
     "metadata": {},
     "output_type": "execute_result"
    },
    {
     "data": {
      "image/png": "[encoded data removed]",
      "text/plain": [
       "<Figure size 432x288 with 1 Axes>"
      ]
     },
     "metadata": {
      "image/png": {
       "height": 264,
       "width": 384
      }
     },
     "output_type": "display_data"
    }
   ],
   "source": [
    "#plot the clusters\n",
    "sns.scatterplot(x=norm_experience.iloc[:,2], y=norm_experience.iloc[:,0], hue=kmeans_exp.labels_, legend=\"full\")"
   ]
  },
  {
   "cell_type": "markdown",
   "id": "d04ccf22",
   "metadata": {},
   "source": [
    "#ask 4\n",
    "\n",
    "Task 4. 1 - Write a python program to assign:\n",
    "\n",
    "a. engagement score to each user. Consider the engagement score as the Euclidean distance between the user data point & the less engaged cluster (use the first clustering for this) - (jupyter notebook ) from scipy.spatial import distance\n",
    "\n",
    "b. experience score to each user. Consider the experience score as the Euclidean distance between the user data point & the worst experience’s cluster."
   ]
  },
  {
   "cell_type": "code",
   "execution_count": 734,
   "id": "3775a440",
   "metadata": {},
   "outputs": [
    {
     "name": "stdout",
     "output_type": "stream",
     "text": [
      "Total TCP      -0.059193\n",
      "Total RTT      -0.041617\n",
      "Total TP       -0.213682\n",
      "Handset Type   -0.210403\n",
      "cluster_exp     0.000000\n",
      "dtype: float64\n",
      "Total TCP       19.240803\n",
      "Total RTT        0.337768\n",
      "Total TP         3.038913\n",
      "Handset Type     1.265853\n",
      "cluster_exp      1.000000\n",
      "dtype: float64\n",
      "Total TCP       0.149103\n",
      "Total RTT       0.425644\n",
      "Total TP        2.153706\n",
      "Handset Type    2.162648\n",
      "cluster_exp     2.000000\n",
      "dtype: float64\n"
     ]
    }
   ],
   "source": [
    "#compute each cluster mean to find the worst experienced cluster\n",
    "print(norm_experience[norm_experience[\"cluster_exp\"]==0].mean())\n",
    "print(norm_experience[norm_experience[\"cluster_exp\"]==1].mean())\n",
    "print(norm_experience[norm_experience[\"cluster_exp\"]==2].mean())"
   ]
  }
 ],
 "metadata": {
  "kernelspec": {
   "display_name": "Python 3",
   "language": "python",
   "name": "python3"
  },
  "language_info": {
   "codemirror_mode": {
    "name": "ipython",
    "version": 3
   },
   "file_extension": ".py",
   "mimetype": "text/x-python",
   "name": "python",
   "nbconvert_exporter": "python",
   "pygments_lexer": "ipython3",
   "version": "3.8.8"
  }
 },
 "nbformat": 4,
 "nbformat_minor": 5
}
